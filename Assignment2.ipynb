{
 "cells": [
  {
   "cell_type": "code",
   "execution_count": 1,
   "id": "3197e09b-4a20-4bda-a590-68d1f124479e",
   "metadata": {},
   "outputs": [
    {
     "name": "stdout",
     "output_type": "stream",
     "text": [
      "* \n",
      "* * \n",
      "* * * \n",
      "* * * * \n",
      "* * * * * \n",
      "* * * * \n",
      "* * * \n",
      "* * \n",
      "* \n"
     ]
    }
   ],
   "source": [
    "n = 5\n",
    "\n",
    "# Simple Triangle Pattern\n",
    "for i in range(1, n + 1):\n",
    "    print(\"* \" * i)\n",
    "    \n",
    "# reverse Triangle Pattern\n",
    "for i in range(n - 1, 0, -1):\n",
    "    print(\"* \" * i)"
   ]
  },
  {
   "cell_type": "code",
   "execution_count": 2,
   "id": "cf16afdc-0457-47ef-b5ab-92988a51e909",
   "metadata": {},
   "outputs": [
    {
     "name": "stdout",
     "output_type": "stream",
     "text": [
      "20\n",
      "40\n",
      "60\n",
      "80\n",
      "100\n"
     ]
    }
   ],
   "source": [
    "my_list = [10, 20, 30, 40, 50, 60, 70, 80, 90, 100]\n",
    "\n",
    "# Loop through the list and print elements at odd indexes\n",
    "for i in range(1, len(my_list), 2):\n",
    "    print(my_list[i])"
   ]
  },
  {
   "cell_type": "code",
   "execution_count": 3,
   "id": "8ffec029-5293-4552-80da-0756b640ea62",
   "metadata": {},
   "outputs": [
    {
     "name": "stdout",
     "output_type": "stream",
     "text": [
      "[23, 'Python', 23.98]\n",
      "[<class 'int'>, <class 'str'>, <class 'float'>]\n"
     ]
    }
   ],
   "source": [
    "x = [23, 'Python', 23.98]\n",
    "types_list = []\n",
    "\n",
    "for item in x:\n",
    "    types_list.append(type(item))\n",
    "\n",
    "print(x)\n",
    "print(types_list)"
   ]
  },
  {
   "cell_type": "code",
   "execution_count": 4,
   "id": "d5660fd0-dec9-4c8c-838a-0dc7761c3bc9",
   "metadata": {},
   "outputs": [
    {
     "name": "stdout",
     "output_type": "stream",
     "text": [
      "Sample List: [1, 2, 3, 3, 3, 3, 4, 5]\n",
      "Unique List: [1, 2, 3, 4, 5]\n"
     ]
    }
   ],
   "source": [
    "def unique_list(lst):\n",
    "    # Convert list to set to remove duplicates, then convert back to list\n",
    "    return list(set(lst))\n",
    "\n",
    "# Sample list\n",
    "sample_list = [1, 2, 3, 3, 3, 3, 4, 5]\n",
    "\n",
    "# Call the function and print the result\n",
    "print(\"Sample List:\", sample_list)\n",
    "print(\"Unique List:\", unique_list(sample_list))"
   ]
  },
  {
   "cell_type": "code",
   "execution_count": 5,
   "id": "b30c945f-f35c-40d4-8264-42079a68ef23",
   "metadata": {},
   "outputs": [
    {
     "name": "stdout",
     "output_type": "stream",
     "text": [
      "No. of Upper-case characters: 3\n",
      "No. of Lower-case Characters: 12\n"
     ]
    }
   ],
   "source": [
    "def count_upper_lower(string):\n",
    "    # Initialize counters\n",
    "    upper_count = 0\n",
    "    lower_count = 0\n",
    "\n",
    "    # Iterate through each character in the string\n",
    "    for char in string:\n",
    "        # Check if the character is uppercase\n",
    "        if char.isupper():\n",
    "            upper_count += 1\n",
    "        # Check if the character is lowercase\n",
    "        elif char.islower():\n",
    "            lower_count += 1\n",
    "\n",
    "    # Return the counts\n",
    "    return upper_count, lower_count\n",
    "\n",
    "# Input string\n",
    "input_string = 'The quick Brow Fox'\n",
    "\n",
    "# Call the function\n",
    "upper_count, lower_count = count_upper_lower(input_string)\n",
    "\n",
    "# Print the results\n",
    "print(\"No. of Upper-case characters:\", upper_count)\n",
    "print(\"No. of Lower-case Characters:\", lower_count)"
   ]
  }
 ],
 "metadata": {
  "kernelspec": {
   "display_name": "Python 3 (ipykernel)",
   "language": "python",
   "name": "python3"
  },
  "language_info": {
   "codemirror_mode": {
    "name": "ipython",
    "version": 3
   },
   "file_extension": ".py",
   "mimetype": "text/x-python",
   "name": "python",
   "nbconvert_exporter": "python",
   "pygments_lexer": "ipython3",
   "version": "3.12.3"
  }
 },
 "nbformat": 4,
 "nbformat_minor": 5
}
